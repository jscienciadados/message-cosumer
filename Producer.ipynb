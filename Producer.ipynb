{
  "nbformat": 4,
  "nbformat_minor": 0,
  "metadata": {
    "colab": {
      "name": "Producer.ipynb",
      "provenance": [],
      "collapsed_sections": [],
      "include_colab_link": true
    },
    "kernelspec": {
      "name": "python3",
      "display_name": "Python 3"
    }
  },
  "cells": [
    {
      "cell_type": "markdown",
      "metadata": {
        "id": "view-in-github",
        "colab_type": "text"
      },
      "source": [
        "<a href=\"https://colab.research.google.com/github/jscienciadados/message-cosumer/blob/main/Producer.ipynb\" target=\"_parent\"><img src=\"https://colab.research.google.com/assets/colab-badge.svg\" alt=\"Open In Colab\"/></a>"
      ]
    },
    {
      "cell_type": "code",
      "metadata": {
        "id": "DWeRO4SdEVW9"
      },
      "source": [
        "!pip install confluent_kafka"
      ],
      "execution_count": null,
      "outputs": []
    },
    {
      "cell_type": "code",
      "metadata": {
        "colab": {
          "base_uri": "https://localhost:8080/"
        },
        "id": "P_X71RFmEeez",
        "outputId": "ac3f4b2c-02f8-4f35-da70-7efdb6639973"
      },
      "source": [
        "import sys\n",
        "import os\n",
        "\n",
        "from confluent_kafka import Producer\n",
        "\n",
        "def delivery_callback(err, msg):\n",
        "    if err:\n",
        "        print('%% Message failed delivery: %s\\n', err)\n",
        "    else:\n",
        "        print('%% Message delivered to %s [%d]\\n',\n",
        "                          (msg.topic(), msg.partition()))\n",
        "\n",
        "def createTopic():\n",
        "    print(\"init\");\n",
        "    #topic = '25fi2ymi-topic1'\n",
        "    topic = '' # seu topico aqui\n",
        "\n",
        "    # Consumer configuration\n",
        "    # See https://github.com/edenhill/librdkafka/blob/master/CONFIGURATION.md\n",
        "    conf = {\n",
        "        'bootstrap.servers': '', # servers\n",
        "        'session.timeout.ms': 6000,\n",
        "        'default.topic.config': {'auto.offset.reset': 'smallest'},\n",
        "        'security.protocol': 'SASL_SSL',\n",
        "\t'sasl.mechanisms': 'SCRAM-SHA-256',\n",
        "        'sasl.username': '', # user\n",
        "        'sasl.password': '' # password\n",
        "    }\n",
        "\n",
        "    p = Producer(conf)\n",
        "\n",
        "    try:\n",
        "        p.produce(topic, \"my message teste realizado com sucesso!\", callback=delivery_callback)\n",
        "    except BufferError as e:\n",
        "        print('%% Local producer queue is full (%d messages awaiting delivery): try again\\n',\n",
        "                          len(p))\n",
        "    p.poll(0)\n",
        "\n",
        "    print('%% Waiting for %d deliveries\\n' % len(p))\n",
        "    p.flush()\n",
        "\n",
        "createTopic();"
      ],
      "execution_count": 5,
      "outputs": [
        {
          "output_type": "stream",
          "name": "stdout",
          "text": [
            "init\n",
            "% Waiting for 1 deliveries\n",
            "\n",
            "%% Message delivered to %s [%d]\n",
            " ('etw4b2s9-default', 4)\n"
          ]
        }
      ]
    }
  ]
}