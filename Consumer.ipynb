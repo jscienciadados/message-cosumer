{
  "nbformat": 4,
  "nbformat_minor": 0,
  "metadata": {
    "colab": {
      "name": "Consumer.ipynb",
      "provenance": [],
      "collapsed_sections": [],
      "include_colab_link": true
    },
    "kernelspec": {
      "name": "python3",
      "display_name": "Python 3"
    }
  },
  "cells": [
    {
      "cell_type": "markdown",
      "metadata": {
        "id": "view-in-github",
        "colab_type": "text"
      },
      "source": [
        "<a href=\"https://colab.research.google.com/github/jscienciadados/message-cosumer/blob/main/Consumer.ipynb\" target=\"_parent\"><img src=\"https://colab.research.google.com/assets/colab-badge.svg\" alt=\"Open In Colab\"/></a>"
      ]
    },
    {
      "cell_type": "code",
      "metadata": {
        "id": "axGfpy9OH595"
      },
      "source": [
        "!pip install confluent_kafka"
      ],
      "execution_count": null,
      "outputs": []
    },
    {
      "cell_type": "code",
      "metadata": {
        "colab": {
          "base_uri": "https://localhost:8080/"
        },
        "id": "aT7mYbrQISIW",
        "outputId": "4c852352-63e5-4626-e2c9-b3dfdea369e7"
      },
      "source": [
        "import sys\n",
        "import os\n",
        "\n",
        "from confluent_kafka import Consumer, KafkaException, KafkaError\n",
        "\n",
        "def createConsumer():\n",
        "\n",
        "    topics = ['']\n",
        "\n",
        "    # Consumer configuration\n",
        "    # See https://github.com/edenhill/librdkafka/blob/master/CONFIGURATION.md\n",
        "    conf = {\n",
        "        'bootstrap.servers': '', # coloque seus servidores aqui\n",
        "        'group.id': \"%s-consumer\" % '', # coloque seu group.id aqui\n",
        "        'session.timeout.ms': 6000,\n",
        "        'default.topic.config': {'auto.offset.reset': 'smallest'},\n",
        "        'security.protocol': 'SASL_SSL',\n",
        "\t'sasl.mechanisms': 'SCRAM-SHA-256',\n",
        "        'sasl.username': '', # user\n",
        "        'sasl.password': '' # password\n",
        "    }\n",
        "\n",
        "    c = Consumer(conf)\n",
        "    c.subscribe(topics)\n",
        "    try:\n",
        "        while True:\n",
        "            msg = c.poll(timeout=1.0)\n",
        "            if msg is None:\n",
        "                continue\n",
        "            if msg.error():\n",
        "                # Error or event\n",
        "                if msg.error().code() == KafkaError._PARTITION_EOF:\n",
        "                    # End of partition event\n",
        "                    sys.stderr.write('%% %s [%d] reached end at offset %d\\n' %\n",
        "                                     (msg.topic(), msg.partition(), msg.offset()))\n",
        "                elif msg.error():\n",
        "                    # Error\n",
        "                    raise KafkaException(msg.error())\n",
        "            else:\n",
        "                # Proper message\n",
        "                sys.stderr.write('%% %s [%d] at offset %d with key %s:\\n' %\n",
        "                                 (msg.topic(), msg.partition(), msg.offset(),\n",
        "                                  str(msg.key())))\n",
        "                print(msg.value())\n",
        "\n",
        "    except KeyboardInterrupt:\n",
        "        sys.stderr.write('%% Aborted by user\\n')\n",
        "\n",
        "    # Close down consumer to commit final offsets.\n",
        "    c.close()\n",
        "\n",
        "createConsumer()"
      ],
      "execution_count": 2,
      "outputs": [
        {
          "output_type": "stream",
          "name": "stderr",
          "text": [
            "% etw4b2s9-default [1] at offset 0 with key None:\n"
          ]
        },
        {
          "output_type": "stream",
          "name": "stdout",
          "text": [
            "b'my message kafka 01'\n"
          ]
        },
        {
          "output_type": "stream",
          "name": "stderr",
          "text": [
            "% etw4b2s9-default [1] at offset 1 with key None:\n"
          ]
        },
        {
          "output_type": "stream",
          "name": "stdout",
          "text": [
            "b'my message kafka processamento distribuido'\n"
          ]
        },
        {
          "output_type": "stream",
          "name": "stderr",
          "text": [
            "% etw4b2s9-default [0] at offset 0 with key None:\n"
          ]
        },
        {
          "output_type": "stream",
          "name": "stdout",
          "text": [
            "b'my message processando big data'\n"
          ]
        },
        {
          "output_type": "stream",
          "name": "stderr",
          "text": [
            "% etw4b2s9-default [4] at offset 0 with key None:\n"
          ]
        },
        {
          "output_type": "stream",
          "name": "stdout",
          "text": [
            "b'my message teste realizado com sucesso!'\n"
          ]
        },
        {
          "output_type": "stream",
          "name": "stderr",
          "text": [
            "%% Aborted by user\n"
          ]
        }
      ]
    }
  ]
}